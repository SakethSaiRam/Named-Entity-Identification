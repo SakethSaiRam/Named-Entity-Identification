{
  "nbformat": 4,
  "nbformat_minor": 0,
  "metadata": {
    "colab": {
      "provenance": []
    },
    "kernelspec": {
      "name": "python3",
      "display_name": "Python 3"
    },
    "language_info": {
      "name": "python"
    }
  },
  "cells": [
    {
      "cell_type": "markdown",
      "source": [
        "# Parts of Speech Tagging\n",
        "\n",
        "- Implemented using **Hidden Markov Model** with **Laplace Smoothing**."
      ],
      "metadata": {
        "id": "ldhQ24ivs6od"
      }
    },
    {
      "cell_type": "code",
      "execution_count": 1,
      "metadata": {
        "colab": {
          "base_uri": "https://localhost:8080/",
          "height": 368
        },
        "collapsed": true,
        "id": "cwSX5i-JJeLy",
        "outputId": "78f8646b-a287-4237-c240-70ba1010bd37"
      },
      "outputs": [
        {
          "output_type": "display_data",
          "data": {
            "text/plain": [
              "<IPython.core.display.HTML object>"
            ],
            "text/html": [
              "\n",
              "     <input type=\"file\" id=\"files-c874f091-ecf0-498b-8ca6-027ca6730589\" name=\"files[]\" multiple disabled\n",
              "        style=\"border:none\" />\n",
              "     <output id=\"result-c874f091-ecf0-498b-8ca6-027ca6730589\">\n",
              "      Upload widget is only available when the cell has been executed in the\n",
              "      current browser session. Please rerun this cell to enable.\n",
              "      </output>\n",
              "      <script>// Copyright 2017 Google LLC\n",
              "//\n",
              "// Licensed under the Apache License, Version 2.0 (the \"License\");\n",
              "// you may not use this file except in compliance with the License.\n",
              "// You may obtain a copy of the License at\n",
              "//\n",
              "//      http://www.apache.org/licenses/LICENSE-2.0\n",
              "//\n",
              "// Unless required by applicable law or agreed to in writing, software\n",
              "// distributed under the License is distributed on an \"AS IS\" BASIS,\n",
              "// WITHOUT WARRANTIES OR CONDITIONS OF ANY KIND, either express or implied.\n",
              "// See the License for the specific language governing permissions and\n",
              "// limitations under the License.\n",
              "\n",
              "/**\n",
              " * @fileoverview Helpers for google.colab Python module.\n",
              " */\n",
              "(function(scope) {\n",
              "function span(text, styleAttributes = {}) {\n",
              "  const element = document.createElement('span');\n",
              "  element.textContent = text;\n",
              "  for (const key of Object.keys(styleAttributes)) {\n",
              "    element.style[key] = styleAttributes[key];\n",
              "  }\n",
              "  return element;\n",
              "}\n",
              "\n",
              "// Max number of bytes which will be uploaded at a time.\n",
              "const MAX_PAYLOAD_SIZE = 100 * 1024;\n",
              "\n",
              "function _uploadFiles(inputId, outputId) {\n",
              "  const steps = uploadFilesStep(inputId, outputId);\n",
              "  const outputElement = document.getElementById(outputId);\n",
              "  // Cache steps on the outputElement to make it available for the next call\n",
              "  // to uploadFilesContinue from Python.\n",
              "  outputElement.steps = steps;\n",
              "\n",
              "  return _uploadFilesContinue(outputId);\n",
              "}\n",
              "\n",
              "// This is roughly an async generator (not supported in the browser yet),\n",
              "// where there are multiple asynchronous steps and the Python side is going\n",
              "// to poll for completion of each step.\n",
              "// This uses a Promise to block the python side on completion of each step,\n",
              "// then passes the result of the previous step as the input to the next step.\n",
              "function _uploadFilesContinue(outputId) {\n",
              "  const outputElement = document.getElementById(outputId);\n",
              "  const steps = outputElement.steps;\n",
              "\n",
              "  const next = steps.next(outputElement.lastPromiseValue);\n",
              "  return Promise.resolve(next.value.promise).then((value) => {\n",
              "    // Cache the last promise value to make it available to the next\n",
              "    // step of the generator.\n",
              "    outputElement.lastPromiseValue = value;\n",
              "    return next.value.response;\n",
              "  });\n",
              "}\n",
              "\n",
              "/**\n",
              " * Generator function which is called between each async step of the upload\n",
              " * process.\n",
              " * @param {string} inputId Element ID of the input file picker element.\n",
              " * @param {string} outputId Element ID of the output display.\n",
              " * @return {!Iterable<!Object>} Iterable of next steps.\n",
              " */\n",
              "function* uploadFilesStep(inputId, outputId) {\n",
              "  const inputElement = document.getElementById(inputId);\n",
              "  inputElement.disabled = false;\n",
              "\n",
              "  const outputElement = document.getElementById(outputId);\n",
              "  outputElement.innerHTML = '';\n",
              "\n",
              "  const pickedPromise = new Promise((resolve) => {\n",
              "    inputElement.addEventListener('change', (e) => {\n",
              "      resolve(e.target.files);\n",
              "    });\n",
              "  });\n",
              "\n",
              "  const cancel = document.createElement('button');\n",
              "  inputElement.parentElement.appendChild(cancel);\n",
              "  cancel.textContent = 'Cancel upload';\n",
              "  const cancelPromise = new Promise((resolve) => {\n",
              "    cancel.onclick = () => {\n",
              "      resolve(null);\n",
              "    };\n",
              "  });\n",
              "\n",
              "  // Wait for the user to pick the files.\n",
              "  const files = yield {\n",
              "    promise: Promise.race([pickedPromise, cancelPromise]),\n",
              "    response: {\n",
              "      action: 'starting',\n",
              "    }\n",
              "  };\n",
              "\n",
              "  cancel.remove();\n",
              "\n",
              "  // Disable the input element since further picks are not allowed.\n",
              "  inputElement.disabled = true;\n",
              "\n",
              "  if (!files) {\n",
              "    return {\n",
              "      response: {\n",
              "        action: 'complete',\n",
              "      }\n",
              "    };\n",
              "  }\n",
              "\n",
              "  for (const file of files) {\n",
              "    const li = document.createElement('li');\n",
              "    li.append(span(file.name, {fontWeight: 'bold'}));\n",
              "    li.append(span(\n",
              "        `(${file.type || 'n/a'}) - ${file.size} bytes, ` +\n",
              "        `last modified: ${\n",
              "            file.lastModifiedDate ? file.lastModifiedDate.toLocaleDateString() :\n",
              "                                    'n/a'} - `));\n",
              "    const percent = span('0% done');\n",
              "    li.appendChild(percent);\n",
              "\n",
              "    outputElement.appendChild(li);\n",
              "\n",
              "    const fileDataPromise = new Promise((resolve) => {\n",
              "      const reader = new FileReader();\n",
              "      reader.onload = (e) => {\n",
              "        resolve(e.target.result);\n",
              "      };\n",
              "      reader.readAsArrayBuffer(file);\n",
              "    });\n",
              "    // Wait for the data to be ready.\n",
              "    let fileData = yield {\n",
              "      promise: fileDataPromise,\n",
              "      response: {\n",
              "        action: 'continue',\n",
              "      }\n",
              "    };\n",
              "\n",
              "    // Use a chunked sending to avoid message size limits. See b/62115660.\n",
              "    let position = 0;\n",
              "    do {\n",
              "      const length = Math.min(fileData.byteLength - position, MAX_PAYLOAD_SIZE);\n",
              "      const chunk = new Uint8Array(fileData, position, length);\n",
              "      position += length;\n",
              "\n",
              "      const base64 = btoa(String.fromCharCode.apply(null, chunk));\n",
              "      yield {\n",
              "        response: {\n",
              "          action: 'append',\n",
              "          file: file.name,\n",
              "          data: base64,\n",
              "        },\n",
              "      };\n",
              "\n",
              "      let percentDone = fileData.byteLength === 0 ?\n",
              "          100 :\n",
              "          Math.round((position / fileData.byteLength) * 100);\n",
              "      percent.textContent = `${percentDone}% done`;\n",
              "\n",
              "    } while (position < fileData.byteLength);\n",
              "  }\n",
              "\n",
              "  // All done.\n",
              "  yield {\n",
              "    response: {\n",
              "      action: 'complete',\n",
              "    }\n",
              "  };\n",
              "}\n",
              "\n",
              "scope.google = scope.google || {};\n",
              "scope.google.colab = scope.google.colab || {};\n",
              "scope.google.colab._files = {\n",
              "  _uploadFiles,\n",
              "  _uploadFilesContinue,\n",
              "};\n",
              "})(self);\n",
              "</script> "
            ]
          },
          "metadata": {}
        },
        {
          "output_type": "stream",
          "name": "stdout",
          "text": [
            "Saving hidden_markov_model.py to hidden_markov_model (3).py\n"
          ]
        },
        {
          "output_type": "execute_result",
          "data": {
            "text/plain": [
              "{'hidden_markov_model (3).py': b\"''' Hidden Markov Model '''\\r\\n\\r\\nclass HMM:\\r\\n\\r\\n    def __init__(self,tagset):\\r\\n        self.tagset = tagset\\r\\n        self.k = 1e-4\\r\\n\\r\\n    def train(self,sents):\\r\\n        self.emit,self.trans = {},{}\\r\\n        self.freq = {}\\r\\n        for sent in sents:\\r\\n            prev_tag = '^'\\r\\n            for ind,word in enumerate(sent):\\r\\n                word_tag = (word[0].lower(),word[1])\\r\\n                bigram = (prev_tag,word[1])\\r\\n                self.emit[word_tag] = self.emit.get(word_tag, 0) + 1\\r\\n                self.freq[word[1]] = self.freq.get(word[1], 0) + 1\\r\\n                if ind != 0:\\r\\n                    self.trans[bigram] = self.trans.get(bigram, 0) + 1\\r\\n                    prev_tag = word[1]\\r\\n        for tag in self.tagset:\\r\\n            self.freq[tag] = self.freq.get(tag, 0)\\r\\n\\r\\n    def laplace_trans(self,bigram):\\r\\n        return (self.trans.get(bigram, 0)+self.k)/(self.freq[bigram[0]]+len(self.tagset)*self.k)\\r\\n\\r\\n    def laplace_emit(self, word_tag):\\r\\n        return (self.emit.get(word_tag, 0)+self.k)/(self.freq[word_tag[1]]+len(self.tagset)*self.k)\\r\\n\\r\\n    def pos_tag(self,sent):\\r\\n        dp,back = {},{}\\r\\n        for ind, word in enumerate(sent):\\r\\n            word = word.lower()\\r\\n            if ind == 0:\\r\\n                for tag in self.tagset:\\r\\n                    word_tag = (word, tag)\\r\\n                    dp[(ind, tag)] = self.laplace_emit(word_tag)\\r\\n                continue\\r\\n            for tag in self.tagset:\\r\\n                dp[(ind, tag)] = -1\\r\\n                for prev_tag in self.tagset:\\r\\n                    bigram = (prev_tag, tag)\\r\\n                    word_tag = (word, tag)\\r\\n                    prob = dp[(ind-1, prev_tag)]*self.laplace_trans(bigram)*self.laplace_emit(word_tag)\\r\\n                    if dp[(ind, tag)] < prob:\\r\\n                        dp[(ind, tag)] = prob \\r\\n                        back[(ind, tag)] = prev_tag\\r\\n        tags = []\\r\\n        max_prob = -1\\r\\n        for tag in self.tagset:\\r\\n            if max_prob < dp[len(sent)-1, tag]:\\r\\n                max_prob = dp[len(sent)-1, tag]\\r\\n                tags = [tag]\\r\\n\\r\\n        for ind in range(len(sent)-1, 0, -1):\\r\\n            tags.append(back[(ind, tags[-1])])\\r\\n        tags.reverse()\\r\\n        return tags\"}"
            ]
          },
          "metadata": {},
          "execution_count": 1
        }
      ],
      "source": [
        "''' Upload the file hidden_markov_layer to make use of the model '''\n",
        "from google.colab import files\n",
        "files.upload()"
      ]
    },
    {
      "cell_type": "markdown",
      "source": [
        "## Collecting the Data\n",
        "\n",
        "- **Brown Corpus** dataset from **nltk** is used for implementation.\n",
        "\n",
        "- This dataset consists of different sentences along with their **pos_tags**."
      ],
      "metadata": {
        "id": "4yhonnzutqD5"
      }
    },
    {
      "cell_type": "code",
      "source": [
        "import nltk\n",
        "\n",
        "CORPUS_NAME = 'brown'\n",
        "nltk.download(CORPUS_NAME)\n",
        "\n",
        "TAG_SET = 'universal_tagset'\n",
        "nltk.download(TAG_SET)\n",
        "\n",
        "CORPUS = nltk.corpus.brown\n",
        "\n",
        "UNIVERSAL_TAGS = [\"VERB\",\"NOUN\",\"PRON\",\"ADJ\",\"ADV\",\"ADP\",\"CONJ\",\"DET\",\"NUM\",\"PRT\",\"X\",\".\"]\n",
        "\n",
        "sents = CORPUS.tagged_sents(tagset='universal')"
      ],
      "metadata": {
        "colab": {
          "base_uri": "https://localhost:8080/"
        },
        "id": "ItYpI1KJJ00Q",
        "outputId": "518088ff-5f97-47fb-9786-0931bd6aee2a"
      },
      "execution_count": 2,
      "outputs": [
        {
          "output_type": "stream",
          "name": "stderr",
          "text": [
            "[nltk_data] Downloading package brown to /root/nltk_data...\n",
            "[nltk_data]   Package brown is already up-to-date!\n",
            "[nltk_data] Downloading package universal_tagset to /root/nltk_data...\n",
            "[nltk_data]   Package universal_tagset is already up-to-date!\n"
          ]
        }
      ]
    },
    {
      "cell_type": "code",
      "source": [
        "print(\"Total Number of different sentences present in the dataset are \",len(sents))"
      ],
      "metadata": {
        "colab": {
          "base_uri": "https://localhost:8080/"
        },
        "id": "acmJE-VQuIO2",
        "outputId": "d949196e-23db-43bf-d9e8-3377852614ba"
      },
      "execution_count": 3,
      "outputs": [
        {
          "output_type": "stream",
          "name": "stdout",
          "text": [
            "Total Number of different sentences present in the dataset are  57340\n"
          ]
        }
      ]
    },
    {
      "cell_type": "code",
      "source": [
        "# Example of a sentence in the dataset\n",
        "sents[0]"
      ],
      "metadata": {
        "colab": {
          "base_uri": "https://localhost:8080/"
        },
        "id": "SWhNiZmgKh4c",
        "outputId": "c5e7047b-6f6e-474f-ebe1-1899102b6bf9"
      },
      "execution_count": 4,
      "outputs": [
        {
          "output_type": "execute_result",
          "data": {
            "text/plain": [
              "[('The', 'DET'),\n",
              " ('Fulton', 'NOUN'),\n",
              " ('County', 'NOUN'),\n",
              " ('Grand', 'ADJ'),\n",
              " ('Jury', 'NOUN'),\n",
              " ('said', 'VERB'),\n",
              " ('Friday', 'NOUN'),\n",
              " ('an', 'DET'),\n",
              " ('investigation', 'NOUN'),\n",
              " ('of', 'ADP'),\n",
              " (\"Atlanta's\", 'NOUN'),\n",
              " ('recent', 'ADJ'),\n",
              " ('primary', 'NOUN'),\n",
              " ('election', 'NOUN'),\n",
              " ('produced', 'VERB'),\n",
              " ('``', '.'),\n",
              " ('no', 'DET'),\n",
              " ('evidence', 'NOUN'),\n",
              " (\"''\", '.'),\n",
              " ('that', 'ADP'),\n",
              " ('any', 'DET'),\n",
              " ('irregularities', 'NOUN'),\n",
              " ('took', 'VERB'),\n",
              " ('place', 'NOUN'),\n",
              " ('.', '.')]"
            ]
          },
          "metadata": {},
          "execution_count": 4
        }
      ]
    },
    {
      "cell_type": "code",
      "source": [
        "from hidden_markov_model import HMM"
      ],
      "metadata": {
        "id": "3PxBPLtVJo0a"
      },
      "execution_count": 5,
      "outputs": []
    },
    {
      "cell_type": "markdown",
      "source": [
        "## Testing the model"
      ],
      "metadata": {
        "id": "ZhucDAKwu3tN"
      }
    },
    {
      "cell_type": "code",
      "source": [
        "# This function returns the confusion dictionary\n",
        "def test(model,test_set):\n",
        "  confusion_double_dict = {x:{y:0 for y in UNIVERSAL_TAGS} for x in UNIVERSAL_TAGS}\n",
        "\n",
        "  for sent in test_set:\n",
        "    obtained_tags = model.pos_tag([word_tag[0] for word_tag in sent])\n",
        "    true_tags = [word_tag[1] for word_tag in sent]\n",
        "    for i in range(len(sent)):\n",
        "      confusion_double_dict[true_tags[i]][obtained_tags[i]] += 1\n",
        "\n",
        "  return confusion_double_dict"
      ],
      "metadata": {
        "id": "9VdY7WxYKnyt"
      },
      "execution_count": 6,
      "outputs": []
    },
    {
      "cell_type": "markdown",
      "source": [
        "### K-Fold Cross Validation\n",
        "\n",
        "- Default value of **k** is initialized to 5."
      ],
      "metadata": {
        "id": "bWcnkXl3vQQL"
      }
    },
    {
      "cell_type": "code",
      "source": [
        "def kfold_cross_validate(sents,folds=5):\n",
        "  print(f\"{folds} fold validation is started!\\n\")\n",
        "\n",
        "  step = len(sents) // folds # Size of the each fold\n",
        "\n",
        "  l,r,summary,model = 0,step,[],None\n",
        "\n",
        "  for i in range(folds):\n",
        "    print(f\"Fold : {i+1}\")\n",
        "    model = HMM(UNIVERSAL_TAGS)\n",
        "    train_set = sents[:l] + sents[r:]\n",
        "    test_set = sents[l:r]\n",
        "    print(f\"Training started....\")\n",
        "    model.train(train_set)\n",
        "    print(f\"Training finished!\")\n",
        "    confusion_dict = test(model,test_set)\n",
        "    print(\"Compuation of Confusion Matrix is done!\\n\")\n",
        "    summary.append(confusion_dict)\n",
        "    l += step\n",
        "    r += step\n",
        "  return summary,model\n",
        "\n",
        "summary,model = kfold_cross_validate(sents)"
      ],
      "metadata": {
        "colab": {
          "base_uri": "https://localhost:8080/"
        },
        "id": "SdB10PLOMYFq",
        "outputId": "b1fe7e7d-421f-4383-c6ab-cd6826b0dba9"
      },
      "execution_count": 7,
      "outputs": [
        {
          "output_type": "stream",
          "name": "stdout",
          "text": [
            "5 fold validation is started!\n",
            "\n",
            "Fold : 1\n",
            "Training started....\n",
            "Training finished!\n",
            "Compuation of Confusion Matrix is done!\n",
            "\n",
            "Fold : 2\n",
            "Training started....\n",
            "Training finished!\n",
            "Compuation of Confusion Matrix is done!\n",
            "\n",
            "Fold : 3\n",
            "Training started....\n",
            "Training finished!\n",
            "Compuation of Confusion Matrix is done!\n",
            "\n",
            "Fold : 4\n",
            "Training started....\n",
            "Training finished!\n",
            "Compuation of Confusion Matrix is done!\n",
            "\n",
            "Fold : 5\n",
            "Training started....\n",
            "Training finished!\n",
            "Compuation of Confusion Matrix is done!\n",
            "\n"
          ]
        }
      ]
    },
    {
      "cell_type": "markdown",
      "source": [
        "## Summary"
      ],
      "metadata": {
        "id": "-Gay2gOpv6Ck"
      }
    },
    {
      "cell_type": "markdown",
      "source": [
        "### Function to calculate Accuracy, Precision, Recall, F_Scores, Confusion Matrix\n",
        "\n",
        "- It calculates all those parameters by making use of Confusion Dictionary."
      ],
      "metadata": {
        "id": "oKUIkoS1v911"
      }
    },
    {
      "cell_type": "code",
      "source": [
        "def report(cd):\n",
        "  true_pos_count,false_pos_count,false_neg_count = 0,0,0 # TP,FP,FN are initialized to zero\n",
        "  tpos,fpos,fneg = {},{},{} # To store the values of individual tags\n",
        "  total_count = 0\n",
        "  for true_tag,row in cd.items():\n",
        "    for obtained_tag,count in row.items():\n",
        "      total_count += count\n",
        "      if true_tag == obtained_tag:\n",
        "        true_pos_count += count\n",
        "        tpos[true_tag] = count\n",
        "      else:\n",
        "        false_pos_count += count\n",
        "        false_neg_count += count\n",
        "        fneg[true_tag] = fneg.get(true_tag,0) + count\n",
        "        fpos[obtained_tag] = fpos.get(obtained_tag,0) + count\n",
        "\n",
        "  precision,recall,f1 = {},{},{}\n",
        "  for tag in UNIVERSAL_TAGS:\n",
        "    precision[tag] = (tpos.get(tag,0))/(tpos.get(tag,0)+fpos.get(tag,0))\n",
        "    recall[tag] = (tpos.get(tag,0))/(tpos.get(tag,0)+fneg.get(tag,0))\n",
        "    f1[tag] = (2*precision[tag]*recall[tag])/(precision[tag]+recall[tag])\n",
        "\n",
        "  overall_accuracy = true_pos_count/total_count\n",
        "  overall_precision = sum(precision.values())/len(UNIVERSAL_TAGS)\n",
        "  overall_recall = sum(recall.values())/len(UNIVERSAL_TAGS)\n",
        "  f_scores = [((1+(x**2))*overall_precision*overall_recall)/((x**2)*overall_precision + overall_recall) for x in [0.5,1,2]]\n",
        "\n",
        "  confusion_matrix = [[0 for _ in range(len(UNIVERSAL_TAGS))] for _ in range(len(UNIVERSAL_TAGS))]\n",
        "  i = 0\n",
        "  for x in UNIVERSAL_TAGS:\n",
        "    j = 0\n",
        "    for y in UNIVERSAL_TAGS:\n",
        "      confusion_matrix[i][j] = cd[x][y]\n",
        "      j += 1\n",
        "    i += 1\n",
        "\n",
        "  return (overall_accuracy,overall_recall,overall_precision,f_scores,precision,recall,f1,confusion_matrix)"
      ],
      "metadata": {
        "id": "q3j7BcgTSId4"
      },
      "execution_count": 8,
      "outputs": []
    },
    {
      "cell_type": "markdown",
      "source": [
        "### Calculation of Overall Summary on the Test Set for all folds"
      ],
      "metadata": {
        "id": "xgm72wIJw8-R"
      }
    },
    {
      "cell_type": "code",
      "source": [
        "overall_accuracy,overall_recall,overall_precision,f_scores,precision,recall,f1 = 0,0,0,[0,0,0],{},{},{}\n",
        "confusion_matrix = [[0 for _ in range(len(UNIVERSAL_TAGS))] for _ in range(len(UNIVERSAL_TAGS))]\n",
        "\n",
        "for s in summary:\n",
        "  accuracy_tc,recall_tc,precision_tc,f_scores_tc,pd_tc,rd_tc,f1_tc,cm_tc = report(s)\n",
        "  overall_accuracy += accuracy_tc\n",
        "  overall_recall += recall_tc\n",
        "  overall_precision += precision_tc\n",
        "  for i in range(len(f_scores)):\n",
        "    f_scores[i] += f_scores_tc[i]\n",
        "  for tag in UNIVERSAL_TAGS:\n",
        "        precision[tag] = precision.get(tag,0)+pd_tc[tag]\n",
        "        recall[tag] = recall.get(tag,0)+rd_tc[tag]\n",
        "        f1[tag] = f1.get(tag,0)+f1_tc[tag]\n",
        "  for i in range(len(UNIVERSAL_TAGS)):\n",
        "      for j in range(len(UNIVERSAL_TAGS)):\n",
        "          confusion_matrix[i][j] += cm_tc[i][j]\n",
        "\n",
        "folds = len(summary)\n",
        "overall_accuracy /= folds\n",
        "overall_recall /= folds\n",
        "overall_precision /= folds\n",
        "for i in range(len(f_scores)):\n",
        "  f_scores[i] /= folds\n",
        "for tag in UNIVERSAL_TAGS:\n",
        "    precision[tag] /= folds\n",
        "    recall[tag] /= folds\n",
        "    f1[tag] /= folds"
      ],
      "metadata": {
        "id": "BFknMC9NZXZO"
      },
      "execution_count": 9,
      "outputs": []
    },
    {
      "cell_type": "code",
      "source": [
        "from prettytable import PrettyTable"
      ],
      "metadata": {
        "id": "Z_bT4635xJ6J"
      },
      "execution_count": 10,
      "outputs": []
    },
    {
      "cell_type": "code",
      "source": [
        "overall_summary_table = PrettyTable()\n",
        "overall_summary_table.field_names = [\"Parameter\",\"Value\"]\n",
        "print(\"-----------Overall Summary----------\")\n",
        "overall_summary_table.add_row([\"Accuracy\",overall_accuracy])\n",
        "overall_summary_table.add_row([\"Recall\",overall_recall])\n",
        "overall_summary_table.add_row([\"Precision\",overall_precision])\n",
        "overall_summary_table.add_row([\"F-0.5 Score\",f_scores[0]])\n",
        "overall_summary_table.add_row([\"F-1 Score\",f_scores[1]])\n",
        "overall_summary_table.add_row([\"F-2 Score\",f_scores[2]])\n",
        "print(overall_summary_table)"
      ],
      "metadata": {
        "colab": {
          "base_uri": "https://localhost:8080/"
        },
        "id": "4xFebeexkIo_",
        "outputId": "4aba8455-0663-4e44-f43f-891485fa27b0"
      },
      "execution_count": 11,
      "outputs": [
        {
          "output_type": "stream",
          "name": "stdout",
          "text": [
            "-----------Overall Summary----------\n",
            "+-------------+--------------------+\n",
            "|  Parameter  |       Value        |\n",
            "+-------------+--------------------+\n",
            "|   Accuracy  | 0.9384238691097814 |\n",
            "|    Recall   |  0.91446748040935  |\n",
            "|  Precision  |  0.84265504190403  |\n",
            "| F-0.5 Score | 0.8560943613571306 |\n",
            "|  F-1 Score  | 0.8770829426002388 |\n",
            "|  F-2 Score  | 0.8991347349313019 |\n",
            "+-------------+--------------------+\n"
          ]
        }
      ]
    },
    {
      "cell_type": "code",
      "source": [
        "per_tag_table = PrettyTable()\n",
        "print(\"----------------------------Per Tag Summary-----------------------------\")\n",
        "per_tag_table.field_names = [\"Tag\",\"Precision\",\"Recall\",\"F1 Score\"]\n",
        "for tag in UNIVERSAL_TAGS:\n",
        "  per_tag_table.add_row([tag, precision[tag], recall[tag], f1[tag]])\n",
        "print(per_tag_table)"
      ],
      "metadata": {
        "colab": {
          "base_uri": "https://localhost:8080/"
        },
        "id": "kaPEWWstkNHE",
        "outputId": "8667c1e5-595d-46d5-ae22-910dd75f2196"
      },
      "execution_count": 12,
      "outputs": [
        {
          "output_type": "stream",
          "name": "stdout",
          "text": [
            "----------------------------Per Tag Summary-----------------------------\n",
            "+------+--------------------+--------------------+---------------------+\n",
            "| Tag  |     Precision      |       Recall       |       F1 Score      |\n",
            "+------+--------------------+--------------------+---------------------+\n",
            "| VERB | 0.9667373255624018 | 0.9478995518399934 |  0.9572089198820418 |\n",
            "| NOUN | 0.9675477173653446 | 0.8818793672327179 |  0.9226904701433627 |\n",
            "| PRON | 0.9368499367121956 | 0.9628774058694265 |  0.9496060601831721 |\n",
            "| ADJ  | 0.8901339371580137 | 0.9016368748921056 |  0.8958104862604216 |\n",
            "| ADV  | 0.8729085190584952 | 0.8920640647215541 |  0.8823551725401287 |\n",
            "| ADP  | 0.9408964435261626 | 0.9611735399332803 |  0.9509002040396586 |\n",
            "| CONJ | 0.9471800074916151 | 0.9870436957551156 |  0.9666829188835457 |\n",
            "| DET  | 0.9705244989133481 | 0.9827092042732246 |  0.9765585924513767 |\n",
            "| NUM  | 0.7217741126657365 | 0.9182850327248367 |  0.8031071832349802 |\n",
            "| PRT  | 0.8403352051118491 | 0.8967572348609802 |  0.8675244073856634 |\n",
            "|  X   | 0.0757688469112163 | 0.6457071161630322 | 0.13510955438523045 |\n",
            "|  .   | 0.9812039523719829 | 0.9955766766459311 |  0.988329946441727  |\n",
            "+------+--------------------+--------------------+---------------------+\n"
          ]
        }
      ]
    },
    {
      "cell_type": "code",
      "source": [
        "%matplotlib inline\n",
        "import matplotlib.pyplot as plt\n",
        "import seaborn as sns\n",
        "fig,ax = plt.subplots(figsize=(8,8))\n",
        "sns.heatmap(confusion_matrix, annot=True, annot_kws={'size': 7}, fmt='d', cmap='cubehelix', xticklabels=UNIVERSAL_TAGS, yticklabels=UNIVERSAL_TAGS)\n",
        "plt.xlabel(\"Obtained Tag\")\n",
        "plt.ylabel(\"True Tag\")\n",
        "plt.title('Confusion Matrix')\n",
        "plt.show()"
      ],
      "metadata": {
        "colab": {
          "base_uri": "https://localhost:8080/",
          "height": 718
        },
        "id": "2hg0AoLTlLZu",
        "outputId": "7d4c1783-51d6-4b1a-db44-26dd94f57599"
      },
      "execution_count": 13,
      "outputs": [
        {
          "output_type": "display_data",
          "data": {
            "text/plain": [
              "<Figure size 800x800 with 2 Axes>"
            ],
            "image/png": "[encoded data removed]"
          },
          "metadata": {}
        }
      ]
    },
    {
      "cell_type": "code",
      "source": [],
      "metadata": {
        "id": "zkfnEeHsojhp"
      },
      "execution_count": null,
      "outputs": []
    }
  ]
}