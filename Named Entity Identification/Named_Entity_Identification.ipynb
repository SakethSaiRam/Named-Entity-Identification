{
  "nbformat": 4,
  "nbformat_minor": 0,
  "metadata": {
    "colab": {
      "provenance": []
    },
    "kernelspec": {
      "name": "python3",
      "display_name": "Python 3"
    },
    "language_info": {
      "name": "python"
    }
  },
  "cells": [
    {
      "cell_type": "markdown",
      "source": [
        "# Named Entity Identification using SVM\n",
        "\n",
        "- Here, we will be using a SVM Classifier for NEI task on CoNLL(Conference on Natural Language Learning) dataset with appropriate feature engineering."
      ],
      "metadata": {
        "id": "Qi7UwvloT015"
      }
    },
    {
      "cell_type": "code",
      "execution_count": 1,
      "metadata": {
        "id": "qqTvBsLgTsUJ"
      },
      "outputs": [],
      "source": [
        "%%capture\n",
        "!python3 -m pip install datasets"
      ]
    },
    {
      "cell_type": "markdown",
      "source": [
        "## Collecting the Data\n",
        "\n",
        "CoNLL NER dataset"
      ],
      "metadata": {
        "id": "vQWVTrNyTRZU"
      }
    },
    {
      "cell_type": "code",
      "source": [
        "import warnings\n",
        "warnings.filterwarnings('ignore')\n",
        "from datasets import load_dataset\n",
        "data = load_dataset('conllpp')"
      ],
      "metadata": {
        "id": "AfOcoX5fVdYM",
        "collapsed": true
      },
      "execution_count": 2,
      "outputs": []
    },
    {
      "cell_type": "code",
      "source": [
        "data # Understanding the data"
      ],
      "metadata": {
        "colab": {
          "base_uri": "https://localhost:8080/"
        },
        "id": "kfzWkkrzVuaT",
        "outputId": "5f1b508d-3836-4fc5-8572-b42c1b407c0d"
      },
      "execution_count": 3,
      "outputs": [
        {
          "output_type": "execute_result",
          "data": {
            "text/plain": [
              "DatasetDict({\n",
              "    train: Dataset({\n",
              "        features: ['id', 'tokens', 'pos_tags', 'chunk_tags', 'ner_tags'],\n",
              "        num_rows: 14041\n",
              "    })\n",
              "    validation: Dataset({\n",
              "        features: ['id', 'tokens', 'pos_tags', 'chunk_tags', 'ner_tags'],\n",
              "        num_rows: 3250\n",
              "    })\n",
              "    test: Dataset({\n",
              "        features: ['id', 'tokens', 'pos_tags', 'chunk_tags', 'ner_tags'],\n",
              "        num_rows: 3453\n",
              "    })\n",
              "})"
            ]
          },
          "metadata": {},
          "execution_count": 3
        }
      ]
    },
    {
      "cell_type": "markdown",
      "source": [
        "Let's create train and test data with id, tokens, ner_tags."
      ],
      "metadata": {
        "id": "O9uvbnCvYGSy"
      }
    },
    {
      "cell_type": "code",
      "source": [
        "dataset = {\n",
        "    'train' : [{'id':x['id'],'tokens':x['tokens'],'ner_tags':x['ner_tags']} for x in data['train']],\n",
        "    'test': [{'id':x['id'],'tokens':x['tokens'],'ner_tags':x['ner_tags']} for x in data['test']]\n",
        "}\n",
        "train_data = dataset['train']\n",
        "test_data = dataset['test']\n",
        "# Example\n",
        "print(train_data[0])\n",
        "print(test_data[0])"
      ],
      "metadata": {
        "colab": {
          "base_uri": "https://localhost:8080/"
        },
        "id": "uJm4rjZSYUCD",
        "outputId": "d43b6813-be79-41f4-b97c-29a24981f1c7"
      },
      "execution_count": 3,
      "outputs": [
        {
          "output_type": "stream",
          "name": "stdout",
          "text": [
            "{'id': '0', 'tokens': ['EU', 'rejects', 'German', 'call', 'to', 'boycott', 'British', 'lamb', '.'], 'ner_tags': [3, 0, 7, 0, 0, 0, 7, 0, 0]}\n",
            "{'id': '0', 'tokens': ['SOCCER', '-', 'JAPAN', 'GET', 'LUCKY', 'WIN', ',', 'CHINA', 'IN', 'SURPRISE', 'DEFEAT', '.'], 'ner_tags': [0, 0, 5, 0, 0, 0, 0, 5, 0, 0, 0, 0]}\n"
          ]
        }
      ]
    },
    {
      "cell_type": "markdown",
      "source": [
        "**train_data** and **test_data** consists of dictionary of sentences, each sentence has it's id, tokens and ner_tags."
      ],
      "metadata": {
        "id": "u3dPa_J_UtVV"
      }
    },
    {
      "cell_type": "code",
      "source": [
        "train_size = len(dataset['train'])\n",
        "test_size = len(dataset['test'])\n",
        "print(train_size,test_size)"
      ],
      "metadata": {
        "colab": {
          "base_uri": "https://localhost:8080/"
        },
        "id": "B6ey1_BVVzIJ",
        "outputId": "4579a7ee-e028-4117-c148-53cfc3961d33"
      },
      "execution_count": 5,
      "outputs": [
        {
          "output_type": "stream",
          "name": "stdout",
          "text": [
            "14041 3453\n"
          ]
        }
      ]
    },
    {
      "cell_type": "markdown",
      "source": [
        "# Data Exploration\n",
        "\n",
        "To analyze the skewness of entity distribution in sentences, calculate the percentage of words that are entities, and visualize the distribution of these percentages.\n",
        "\n",
        "- **percentage_dict** stores the count of sentences in the training data for each percentage of entity words, ranging from 0 to 100.\n",
        "\n",
        "- **percentage_indices** stores the indices of the sentences in the training data for each percentage of entity words."
      ],
      "metadata": {
        "id": "NgQyd2KZZtSH"
      }
    },
    {
      "cell_type": "code",
      "source": [
        "percentage_dict = [0 for i in range(101)]\n",
        "percentage_indices = [[] for i in range(101)]\n",
        "for s in train_data:\n",
        "  tags = s['ner_tags']\n",
        "  num_entities = len(tags) - tags.count(0)\n",
        "  percentage_entities = int((num_entities/len(tags))*100)\n",
        "  percentage_dict[percentage_entities] += 1\n",
        "  percentage_indices[percentage_entities].append(int(s['id']))"
      ],
      "metadata": {
        "id": "-wZp4VskWGP4"
      },
      "execution_count": 4,
      "outputs": []
    },
    {
      "cell_type": "markdown",
      "source": [
        "### Visualization"
      ],
      "metadata": {
        "id": "Ph58YOopZTKl"
      }
    },
    {
      "cell_type": "code",
      "source": [
        "import matplotlib.pyplot as plt\n",
        "%matplotlib inline"
      ],
      "metadata": {
        "id": "8FAQCe_0d9jK"
      },
      "execution_count": 6,
      "outputs": []
    },
    {
      "cell_type": "code",
      "source": [
        "total_sentences = sum(percentage_dict)\n",
        "sentences_count = 0\n",
        "one_fourth = half = three_fourth = 0\n",
        "for i in range(101):\n",
        "  sentences_count += percentage_dict[i]\n",
        "  if not three_fourth:\n",
        "    if sentences_count > total_sentences*(3/4):\n",
        "      three_fourth = i\n",
        "    if not half:\n",
        "      if sentences_count > total_sentences*(2/4):\n",
        "        half = i\n",
        "      if not one_fourth:\n",
        "        if sentences_count > total_sentences*(1/4):\n",
        "          one_fourth = i\n",
        "\n",
        "plt.plot(percentage_dict,color='#6495ED')\n",
        "plt.axvline(x=one_fourth,label='One-Fourth(1/4)',color='#DC143C')\n",
        "plt.axvline(x=half,label='One-Half(1/2)',color='#006400')\n",
        "plt.axvline(x=three_fourth,label='Three-Fourth(1/4)',color='#4B0082')\n",
        "plt.xlabel('Perecentages of entities in a sentence')\n",
        "plt.ylabel('Number of sentences')\n",
        "plt.legend()"
      ],
      "metadata": {
        "colab": {
          "base_uri": "https://localhost:8080/",
          "height": 466
        },
        "id": "_GSrpNpDe-7N",
        "outputId": "075a62dc-6a7e-4a0b-8373-c0fe3fae2568"
      },
      "execution_count": 7,
      "outputs": [
        {
          "output_type": "execute_result",
          "data": {
            "text/plain": [
              "<matplotlib.legend.Legend at 0x7dc9cbc91840>"
            ]
          },
          "metadata": {},
          "execution_count": 7
        },
        {
          "output_type": "display_data",
          "data": {
            "text/plain": [
              "<Figure size 640x480 with 1 Axes>"
            ],
            "image/png": "[encoded data removed]"
          },
          "metadata": {}
        }
      ]
    },
    {
      "cell_type": "code",
      "source": [
        "print(f\"Number of sentences with more than 25% of words as entities are {sum(percentage_dict[25:])}\")\n",
        "print(f\"Number of sentences with more than 50% of words as entities are {sum(percentage_dict[50:])}\")\n",
        "print(f\"Number of sentences with more than 75% of words as entities are {sum(percentage_dict[75:])}\")"
      ],
      "metadata": {
        "colab": {
          "base_uri": "https://localhost:8080/"
        },
        "id": "fik7rTp-i9Qo",
        "outputId": "fccd740f-6a58-44cb-c8d4-b3ae5f5e7456"
      },
      "execution_count": 8,
      "outputs": [
        {
          "output_type": "stream",
          "name": "stdout",
          "text": [
            "Number of sentences with more than 25% of words as entities are 5185\n",
            "Number of sentences with more than 50% of words as entities are 2560\n",
            "Number of sentences with more than 75% of words as entities are 349\n"
          ]
        }
      ]
    },
    {
      "cell_type": "markdown",
      "source": [
        "# Data Augmentation\n",
        "\n",
        "For normalising the training data, lets append more sentences at the end of the training data with large number of entities as words. From the above results, we can see that number of senteneces with more than 50% words as entities are 2560, which is very less. So, lets append these sentences twice to the training data to overcome the problem of skewedness.\n",
        "\n",
        "Therefore, number of sentences in the training data are (14041 + 5120) out of which 7680 sentences have more than 50% words as entities.\n",
        "\n",
        "**Do not run the cells in this Section to get the results without Data Augmentation.**"
      ],
      "metadata": {
        "id": "XTO5BO0mlyb3"
      }
    },
    {
      "cell_type": "code",
      "source": [
        "final_index = len(train_data) - 1\n",
        "for i in range(50,101):\n",
        "  for j in percentage_indices[i]:\n",
        "    final_index += 1\n",
        "    sent = {'id':final_index,'tokens':train_data[j]['tokens'],'ner_tags':train_data[j]['ner_tags']}\n",
        "    train_data.append(sent)\n",
        "    final_index += 1\n",
        "    sent = {'id':final_index,'tokens':train_data[j]['tokens'],'ner_tags':train_data[j]['ner_tags']}\n",
        "    train_data.append(sent)\n",
        "print(len(train_data))"
      ],
      "metadata": {
        "id": "zQH3-jvwd8V1",
        "colab": {
          "base_uri": "https://localhost:8080/"
        },
        "outputId": "1dd8b262-3f38-43bb-eb51-306b12fece6e"
      },
      "execution_count": 5,
      "outputs": [
        {
          "output_type": "stream",
          "name": "stdout",
          "text": [
            "19161\n"
          ]
        }
      ]
    },
    {
      "cell_type": "code",
      "source": [
        "train_data[len(train_data)-1000]"
      ],
      "metadata": {
        "colab": {
          "base_uri": "https://localhost:8080/"
        },
        "id": "jNha3xJNhgyv",
        "outputId": "ce66e5db-eafe-4c47-93c2-546cd206624b"
      },
      "execution_count": 6,
      "outputs": [
        {
          "output_type": "execute_result",
          "data": {
            "text/plain": [
              "{'id': 18161, 'tokens': ['BOSTON', 'AT', 'CALIFORNIA'], 'ner_tags': [3, 0, 5]}"
            ]
          },
          "metadata": {},
          "execution_count": 6
        }
      ]
    },
    {
      "cell_type": "markdown",
      "source": [
        "# Feature Extraction"
      ],
      "metadata": {
        "id": "nG_j7lZ2uq5n"
      }
    },
    {
      "cell_type": "code",
      "source": [
        "%%capture\n",
        "import nltk\n",
        "from nltk.tag import pos_tag\n",
        "from nltk.tokenize import word_tokenize # Tokenize the words in a sentence\n",
        "nltk.download('punkt') # Unsupervised learning model to train the unlabeled data\n",
        "nltk.download('averaged_perceptron_tagger') # It contains the pre trained POS tagger in nltk"
      ],
      "metadata": {
        "id": "KxxsHKe3lnTu"
      },
      "execution_count": 7,
      "outputs": []
    },
    {
      "cell_type": "markdown",
      "source": [
        "[Here](\"https://docs.google.com/document/d/1Gwg8rcCAIPv1FrRMC13OU1zDny625nmNqhKUUA37e4w/edit?usp=sharing\") is the list of all POS Tags in nltk."
      ],
      "metadata": {
        "id": "Zcmb9vaAel1a"
      }
    },
    {
      "cell_type": "code",
      "source": [
        "# Example\n",
        "tokens = word_tokenize(\"I have three best friends in my B.Tech.\")\n",
        "tags = pos_tag(tokens)\n",
        "print(tags)\n",
        "print(tokens)"
      ],
      "metadata": {
        "id": "Nk7O7pKkuzGO",
        "colab": {
          "base_uri": "https://localhost:8080/"
        },
        "outputId": "cf08743e-dc14-4366-82c5-53fdf753b18b"
      },
      "execution_count": 8,
      "outputs": [
        {
          "output_type": "stream",
          "name": "stdout",
          "text": [
            "[('I', 'PRP'), ('have', 'VBP'), ('three', 'CD'), ('best', 'JJS'), ('friends', 'NNS'), ('in', 'IN'), ('my', 'PRP$'), ('B.Tech', 'NNP'), ('.', '.')]\n",
            "['I', 'have', 'three', 'best', 'friends', 'in', 'my', 'B.Tech', '.']\n"
          ]
        }
      ]
    },
    {
      "cell_type": "markdown",
      "source": [
        "### Input format to the function **wordToFeature**\n",
        "\n",
        "- **sentence** : List of all words in a sentence\n",
        "  - Example : ['I', 'have', 'three', 'best', 'friends', 'in', 'my', 'B.Tech', '.']\n",
        "- **pos_tags** : List of POS Tags corresponding to the words given in the sentence.\n",
        "  - Example : ['PRP', 'VBP', 'CD', 'JJS', 'NNS', 'IN', 'PRP$', 'NNP', '.']\n",
        "- **i** : Index of the word in a sentence\n"
      ],
      "metadata": {
        "id": "W-F-gPDuhqv3"
      }
    },
    {
      "cell_type": "code",
      "source": [
        "def wordToFeature(sentence,pos_tags,i):\n",
        "  postag = pos_tags[i]\n",
        "  word = sentence[i]\n",
        "  lword = word.lower()\n",
        "  features = {\n",
        "      'postag'  : str(postag),\n",
        "      'istitle' : word.istitle(),\n",
        "      'isupper' : word.isupper(),\n",
        "      'length'  : len(word),\n",
        "      'isdigit' : word.isdigit(),\n",
        "      '1suffix' : lword[-1:],\n",
        "      '2suffix' : lword[-2:],\n",
        "      '3suffix' : lword[-3:],\n",
        "      '4suffix' : lword[-4:],\n",
        "      '1prefix' : lword[:1],\n",
        "      '2prefix' : lword[:2],\n",
        "      '3prefix' : lword[:3],\n",
        "      '4prefix' : lword[:4]\n",
        "  }\n",
        "  if i > 0:\n",
        "    prevWord = sentence[i-1]\n",
        "    prevpostag = pos_tags[i-1]\n",
        "    features.update({\n",
        "        'prevpostag'  : prevpostag,\n",
        "        'previsupper' : prevWord.isupper(),\n",
        "        'previstitle' : prevWord.istitle(),\n",
        "        'prevdigit'   : prevWord.isdigit(),\n",
        "        'begin'       : False\n",
        "    })\n",
        "  else:\n",
        "    features.update({'begin' : True})\n",
        "  if i < len(sentence) - 1:\n",
        "    nextWord = sentence[i+1]\n",
        "    nextpostag = pos_tags[i+1]\n",
        "    features.update({\n",
        "        'nextpostag'  : nextpostag,\n",
        "        'nextisupper' : nextWord.isupper(),\n",
        "        'nextistitle' : nextWord.istitle(),\n",
        "        'nextdigit'   : nextWord.isdigit(),\n",
        "        'end'         : False\n",
        "    })\n",
        "  else:\n",
        "    features.update({'end' : True})\n",
        "  return features"
      ],
      "metadata": {
        "id": "ULM4Tz2mvqxG"
      },
      "execution_count": 9,
      "outputs": []
    },
    {
      "cell_type": "code",
      "source": [
        "example_sentence = \"I have three best friends in my B.Tech.\"\n",
        "tokens = word_tokenize(example_sentence)\n",
        "postags = [i[1] for i in pos_tag(tokens)]\n",
        "print(wordToFeature(tokens,postags,3))"
      ],
      "metadata": {
        "colab": {
          "base_uri": "https://localhost:8080/"
        },
        "id": "BA9y9sN1jZC2",
        "outputId": "69e7164f-c7f2-40a4-d8fb-cc3b49018e68"
      },
      "execution_count": 10,
      "outputs": [
        {
          "output_type": "stream",
          "name": "stdout",
          "text": [
            "{'postag': 'JJS', 'istitle': False, 'isupper': False, 'length': 4, 'isdigit': False, '1suffix': 't', '2suffix': 'st', '3suffix': 'est', '4suffix': 'best', '1prefix': 'b', '2prefix': 'be', '3prefix': 'bes', '4prefix': 'best', 'prevpostag': 'CD', 'previsupper': False, 'previstitle': False, 'prevdigit': False, 'begin': False, 'nextpostag': 'NNS', 'nextisupper': False, 'nextistitle': False, 'nextdigit': False, 'end': False}\n"
          ]
        }
      ]
    },
    {
      "cell_type": "markdown",
      "source": [
        "### Sentence to feature function\n",
        "\n",
        "It returns the list of features of all words in a sentence.\n",
        "\n",
        "Input format for **s**: {'id': '0', 'tokens': ['EU', 'rejects', 'German', 'call', 'to', 'boycott', 'British', 'lamb', '.'], 'ner_tags': [3, 0, 7, 0, 0, 0, 7, 0, 0]}"
      ],
      "metadata": {
        "id": "-W-SiuJ3kJ2z"
      }
    },
    {
      "cell_type": "code",
      "source": [
        "def sentenceToFeature(s):\n",
        "  pos_tags = [i[1] for i in pos_tag(s['tokens'])]\n",
        "  k = [(wordToFeature(s['tokens'],pos_tags,i)) for i in range(len(s['tokens']))]\n",
        "  return k"
      ],
      "metadata": {
        "id": "11Q255gPtIgP"
      },
      "execution_count": 11,
      "outputs": []
    },
    {
      "cell_type": "markdown",
      "source": [
        "### Word to bool function\n",
        "\n",
        "It returns 1 if the word's ner_tag is positive, else it returns 0."
      ],
      "metadata": {
        "id": "wkzkAAlWlSjf"
      }
    },
    {
      "cell_type": "code",
      "source": [
        "def wordTobool(s,i):\n",
        "  if s['ner_tags'][i] > 0:\n",
        "    return 1\n",
        "  return 0"
      ],
      "metadata": {
        "id": "orKSWziIlR6K"
      },
      "execution_count": 12,
      "outputs": []
    },
    {
      "cell_type": "code",
      "source": [
        "print(len(dataset['train']))\n",
        "print(len(dataset['test']))\n",
        "print(dataset['train'][0])"
      ],
      "metadata": {
        "id": "gZTmxqW5v7Fv",
        "colab": {
          "base_uri": "https://localhost:8080/"
        },
        "collapsed": true,
        "outputId": "617605dd-522e-428c-b306-5be5dddaa725"
      },
      "execution_count": 13,
      "outputs": [
        {
          "output_type": "stream",
          "name": "stdout",
          "text": [
            "19161\n",
            "3453\n",
            "{'id': '0', 'tokens': ['EU', 'rejects', 'German', 'call', 'to', 'boycott', 'British', 'lamb', '.'], 'ner_tags': [3, 0, 7, 0, 0, 0, 7, 0, 0]}\n"
          ]
        }
      ]
    },
    {
      "cell_type": "markdown",
      "source": [
        "## Training and Testing the Data"
      ],
      "metadata": {
        "id": "pks2mSojmkyz"
      }
    },
    {
      "cell_type": "markdown",
      "source": [
        "- **X_train** and **X_test** consists of features of all words in the dataset.\n",
        "\n",
        "- **Y_train** and **Y_test** consists of NEI Tag corresponding to the words in X. Basically, it consists of binary values."
      ],
      "metadata": {
        "id": "bprHcv4VqAtw"
      }
    },
    {
      "cell_type": "code",
      "source": [
        "X_train,Y_train = [],[]\n",
        "X_test,Y_test = [],[]\n",
        "for s in dataset['train']:\n",
        "  pos_tags = [i[1] for i in pos_tag(s['tokens'])]\n",
        "  for i in range(len(s['tokens'])):\n",
        "    X_train.append(wordToFeature(s['tokens'],pos_tags,i))\n",
        "    Y_train.append(wordTobool(s,i))\n",
        "for s in dataset['test']:\n",
        "  pos_tags = [i[1] for i in pos_tag(s['tokens'])]\n",
        "  for i in range(len(s['tokens'])):\n",
        "    X_test.append(wordToFeature(s['tokens'],pos_tags,i))\n",
        "    Y_test.append(wordTobool(s,i))"
      ],
      "metadata": {
        "id": "x9ByURcuwQJY"
      },
      "execution_count": 14,
      "outputs": []
    },
    {
      "cell_type": "code",
      "source": [
        "print(len(X_train))\n",
        "print(len(X_test))"
      ],
      "metadata": {
        "id": "4tmATtEazaLw",
        "colab": {
          "base_uri": "https://localhost:8080/"
        },
        "outputId": "1153720c-cf4e-4814-ca4b-5f504b9b9227"
      },
      "execution_count": 15,
      "outputs": [
        {
          "output_type": "stream",
          "name": "stdout",
          "text": [
            "229171\n",
            "46435\n"
          ]
        }
      ]
    },
    {
      "cell_type": "markdown",
      "source": [
        "### Without Data Augmentation\n",
        "\n",
        "- Number of samples in the Training data are 203621.\n",
        "- Number of samples in the Testing data are 46435.\n",
        "\n"
      ],
      "metadata": {
        "id": "3bpoo8dd85Zj"
      }
    },
    {
      "cell_type": "markdown",
      "source": [
        "### With Data Augmentation\n",
        "\n",
        "- Number of samples in the Training data are 229171.\n",
        "- Number of samples in the Testing data are 46435."
      ],
      "metadata": {
        "id": "Omv40OjkGKil"
      }
    },
    {
      "cell_type": "code",
      "source": [
        "# Example\n",
        "print(X_train[0]) # Features of the word 'EU'\n",
        "print(Y_train[0]) # NEI Tag"
      ],
      "metadata": {
        "colab": {
          "base_uri": "https://localhost:8080/"
        },
        "id": "56igXBrdpaZT",
        "outputId": "64faaa8d-625c-4580-94dc-fcf474783cb6"
      },
      "execution_count": 20,
      "outputs": [
        {
          "output_type": "stream",
          "name": "stdout",
          "text": [
            "{'postag': 'NNP', 'istitle': False, 'isupper': True, 'length': 2, 'isdigit': False, '1suffix': 'u', '2suffix': 'eu', '3suffix': 'eu', '4suffix': 'eu', '1prefix': 'e', '2prefix': 'eu', '3prefix': 'eu', '4prefix': 'eu', 'begin': True, 'nextpostag': 'VBZ', 'nextisupper': False, 'nextistitle': False, 'nextdigit': False, 'end': False}\n",
            "1\n"
          ]
        }
      ]
    },
    {
      "cell_type": "markdown",
      "source": [
        "### DictVectorizer\n",
        "\n",
        "- This transformer turns lists of mappings (dict-like objects) of feature names to feature values into NumPy arrays."
      ],
      "metadata": {
        "id": "jcVlejKansYP"
      }
    },
    {
      "cell_type": "code",
      "source": [
        "from sklearn.feature_extraction import DictVectorizer\n",
        "vector = DictVectorizer()\n",
        "r = vector.fit_transform(X_train + X_test)\n",
        "Xtrain = r[:len(X_train)]\n",
        "Xtest = r[len(X_train):]"
      ],
      "metadata": {
        "id": "VHrim8pryzyg"
      },
      "execution_count": 16,
      "outputs": []
    },
    {
      "cell_type": "code",
      "source": [
        "# Example\n",
        "print(Xtrain[0])"
      ],
      "metadata": {
        "colab": {
          "base_uri": "https://localhost:8080/"
        },
        "id": "I85jWPnRoTgr",
        "outputId": "9ec20e22-93a6-4aaf-8bfb-b2a99813e74b"
      },
      "execution_count": 22,
      "outputs": [
        {
          "output_type": "stream",
          "name": "stdout",
          "text": [
            "  (0, 36)\t1.0\n",
            "  (0, 109)\t1.0\n",
            "  (0, 488)\t1.0\n",
            "  (0, 1303)\t1.0\n",
            "  (0, 4170)\t1.0\n",
            "  (0, 8929)\t1.0\n",
            "  (0, 17302)\t1.0\n",
            "  (0, 29239)\t1.0\n",
            "  (0, 35327)\t1.0\n",
            "  (0, 35328)\t0.0\n",
            "  (0, 35329)\t0.0\n",
            "  (0, 35330)\t0.0\n",
            "  (0, 35331)\t1.0\n",
            "  (0, 35332)\t2.0\n",
            "  (0, 35333)\t0.0\n",
            "  (0, 35334)\t0.0\n",
            "  (0, 35335)\t0.0\n",
            "  (0, 35373)\t1.0\n",
            "  (0, 35397)\t1.0\n"
          ]
        }
      ]
    },
    {
      "cell_type": "markdown",
      "source": [
        "## SVM Classifier\n",
        "\n",
        "### Without Data Augmentation\n",
        "- Time taken to train the model and predict the tags for test data: 25m + 2m.\n",
        "\n",
        "### With Data Augmentation\n",
        "- Time taken to train the model and predict the tags for test data: 1h 2m + 2m."
      ],
      "metadata": {
        "id": "HT7oHbafqwp5"
      }
    },
    {
      "cell_type": "code",
      "source": [
        "from sklearn.svm import SVC\n",
        "model = SVC()\n",
        "model.fit(Xtrain,Y_train)\n",
        "Y_pred = model.predict(Xtest)"
      ],
      "metadata": {
        "id": "OZPKTmjT2G88"
      },
      "execution_count": 17,
      "outputs": []
    },
    {
      "cell_type": "code",
      "source": [
        "from sklearn.metrics import accuracy_score,precision_score,recall_score,confusion_matrix\n",
        "accuracy = accuracy_score(Y_test,Y_pred)\n",
        "precision = precision_score(Y_test,Y_pred)\n",
        "recall = recall_score(Y_test,Y_pred)\n",
        "f1score = (2*precision*recall)/(precision+recall)\n",
        "confusion = confusion_matrix(Y_test,Y_pred)"
      ],
      "metadata": {
        "id": "jF6cDoks3zIW"
      },
      "execution_count": 18,
      "outputs": []
    },
    {
      "cell_type": "code",
      "source": [
        "print(\"Accuracy Score   : \",accuracy)\n",
        "print(\"Precision Score  : \",precision)\n",
        "print(\"Recall Score     : \",recall)\n",
        "print(\"F1 Score         : \",f1score)"
      ],
      "metadata": {
        "id": "EMTt0Y__8_Mx",
        "colab": {
          "base_uri": "https://localhost:8080/"
        },
        "outputId": "28a013fb-8cf6-4b26-fa19-c7b894a36be8"
      },
      "execution_count": 19,
      "outputs": [
        {
          "output_type": "stream",
          "name": "stdout",
          "text": [
            "Accuracy Score   :  0.9839345321417035\n",
            "Precision Score  :  0.9460807600950119\n",
            "Recall Score     :  0.9646403487527246\n",
            "F1 Score         :  0.9552704161170403\n"
          ]
        }
      ]
    },
    {
      "cell_type": "markdown",
      "source": [
        "## Summary"
      ],
      "metadata": {
        "id": "wFBunsagsTIc"
      }
    },
    {
      "cell_type": "code",
      "source": [
        "from prettytable import PrettyTable\n",
        "table = PrettyTable()\n",
        "table.field_names = ['Parameter','Without Data Augmentation', 'With Data Augmentation']\n",
        "table.add_rows(\n",
        "    [\n",
        "        [\"Accuracy Score\",0.9837191773446754,0.9839345321417035],\n",
        "        [\"Precision Score\",0.9483624193162802,0.9460807600950119],\n",
        "        [\"Recall Score\",0.9607653184790507,0.9646403487527246],\n",
        "        [\"F1 Score\",0.9545235803657364,0.9552704161170403]\n",
        "    ]\n",
        ")\n",
        "print(table)"
      ],
      "metadata": {
        "id": "qcCDDxn0raTx",
        "colab": {
          "base_uri": "https://localhost:8080/"
        },
        "outputId": "9089ecaf-2ebe-4c35-ee38-8d2fffa9f14b"
      },
      "execution_count": 22,
      "outputs": [
        {
          "output_type": "stream",
          "name": "stdout",
          "text": [
            "+-----------------+---------------------------+------------------------+\n",
            "|    Parameter    | Without Data Augmentation | With Data Augmentation |\n",
            "+-----------------+---------------------------+------------------------+\n",
            "|  Accuracy Score |     0.9837191773446754    |   0.9839345321417035   |\n",
            "| Precision Score |     0.9483624193162802    |   0.9460807600950119   |\n",
            "|   Recall Score  |     0.9607653184790507    |   0.9646403487527246   |\n",
            "|     F1 Score    |     0.9545235803657364    |   0.9552704161170403   |\n",
            "+-----------------+---------------------------+------------------------+\n"
          ]
        }
      ]
    },
    {
      "cell_type": "markdown",
      "source": [
        "### Confusion Matrix for the model without data augmentation"
      ],
      "metadata": {
        "id": "9y2DwQLRD9w_"
      }
    },
    {
      "cell_type": "code",
      "source": [
        "import seaborn as sns\n",
        "import matplotlib.pyplot as plt\n",
        "sns.heatmap(confusion,annot=True, fmt='d', cmap='Blues')\n",
        "plt.xlabel('Predicted Tag')\n",
        "plt.ylabel('True Tag')\n",
        "plt.title('Confusion Matrix')\n",
        "plt.show()"
      ],
      "metadata": {
        "colab": {
          "base_uri": "https://localhost:8080/",
          "height": 472
        },
        "id": "q-thpoxWD9XQ",
        "outputId": "a5d27376-2695-40ce-a76a-ba3320cc7307"
      },
      "execution_count": 25,
      "outputs": [
        {
          "output_type": "display_data",
          "data": {
            "text/plain": [
              "<Figure size 640x480 with 2 Axes>"
            ],
            "image/png": "[encoded data removed]"
          },
          "metadata": {}
        }
      ]
    },
    {
      "cell_type": "markdown",
      "source": [
        "### Confusion Matrix for the model with data augmentation"
      ],
      "metadata": {
        "id": "j81sqJO8ErY9"
      }
    },
    {
      "cell_type": "code",
      "source": [
        "import seaborn as sns\n",
        "import matplotlib.pyplot as plt\n",
        "sns.heatmap(confusion,annot=True, fmt='d', cmap='Blues')\n",
        "plt.xlabel('Predicted Tag')\n",
        "plt.ylabel('True Tag')\n",
        "plt.title('Confusion Matrix')\n",
        "plt.show()"
      ],
      "metadata": {
        "colab": {
          "base_uri": "https://localhost:8080/",
          "height": 472
        },
        "id": "M2BTElTCEq8Q",
        "outputId": "765b6bfd-e40a-4881-bc3f-7ee424c115b2"
      },
      "execution_count": 20,
      "outputs": [
        {
          "output_type": "display_data",
          "data": {
            "text/plain": [
              "<Figure size 640x480 with 2 Axes>"
            ],
            "image/png": "[encoded data removed]"
          },
          "metadata": {}
        }
      ]
    },
    {
      "cell_type": "markdown",
      "source": [
        "# Named Entity Identifier\n",
        "\n",
        "- It identifies the entities in a given sentence from the model (data augmented model) trained above."
      ],
      "metadata": {
        "id": "F8TlNq83biZG"
      }
    },
    {
      "cell_type": "code",
      "source": [
        "def identify_entities(sentence):\n",
        "  global model,vector\n",
        "  tokens = word_tokenize(sentence)\n",
        "  postags = [i[1] for i in pos_tag(tokens)]\n",
        "  test_example = []\n",
        "  for i in range(len(tokens)):\n",
        "    test_example.append(vector.transform(wordToFeature(tokens,postags,i)))\n",
        "  pred = [(tokens[i],model.predict(test_example[i])[0]) for i in range(len(test_example))]\n",
        "  return pred"
      ],
      "metadata": {
        "id": "uy2Rym3KbMIq"
      },
      "execution_count": 45,
      "outputs": []
    },
    {
      "cell_type": "code",
      "source": [
        "identify_entities(\"I live in Warangal.\")"
      ],
      "metadata": {
        "colab": {
          "base_uri": "https://localhost:8080/"
        },
        "id": "_9p7QXMhc_CJ",
        "outputId": "58530a1f-eb31-4340-8bcc-0a20d46ef292"
      },
      "execution_count": 46,
      "outputs": [
        {
          "output_type": "execute_result",
          "data": {
            "text/plain": [
              "[('I', 0), ('live', 0), ('in', 0), ('Warangal', 1), ('.', 0)]"
            ]
          },
          "metadata": {},
          "execution_count": 46
        }
      ]
    },
    {
      "cell_type": "code",
      "source": [
        "identify_entities(\"I have three friends Sahithi, Manaswini and Varun Teja.\")"
      ],
      "metadata": {
        "colab": {
          "base_uri": "https://localhost:8080/"
        },
        "id": "0ACPMi1FdEJ6",
        "outputId": "7138734b-e68d-4536-8dd8-d63c81775bbd"
      },
      "execution_count": 49,
      "outputs": [
        {
          "output_type": "execute_result",
          "data": {
            "text/plain": [
              "[('I', 0),\n",
              " ('have', 0),\n",
              " ('three', 0),\n",
              " ('friends', 0),\n",
              " ('Sahithi', 1),\n",
              " (',', 0),\n",
              " ('Manaswini', 1),\n",
              " ('and', 0),\n",
              " ('Varun', 1),\n",
              " ('Teja', 1),\n",
              " ('.', 0)]"
            ]
          },
          "metadata": {},
          "execution_count": 49
        }
      ]
    },
    {
      "cell_type": "code",
      "source": [
        "identify_entities(\"I would like to end up this Named Entity Indentification project with this last example!\")"
      ],
      "metadata": {
        "colab": {
          "base_uri": "https://localhost:8080/"
        },
        "id": "4F2nvDbzgXde",
        "outputId": "3bc94bc1-a032-4210-c887-97f8150f6a7d"
      },
      "execution_count": 48,
      "outputs": [
        {
          "output_type": "execute_result",
          "data": {
            "text/plain": [
              "[('I', 0),\n",
              " ('would', 0),\n",
              " ('like', 0),\n",
              " ('to', 0),\n",
              " ('end', 0),\n",
              " ('up', 0),\n",
              " ('this', 0),\n",
              " ('Named', 0),\n",
              " ('Entity', 1),\n",
              " ('Indentification', 1),\n",
              " ('project', 0),\n",
              " ('with', 0),\n",
              " ('this', 0),\n",
              " ('last', 0),\n",
              " ('example', 0),\n",
              " ('!', 0)]"
            ]
          },
          "metadata": {},
          "execution_count": 48
        }
      ]
    },
    {
      "cell_type": "code",
      "source": [],
      "metadata": {
        "id": "A6PvHBUvgxbo"
      },
      "execution_count": null,
      "outputs": []
    }
  ]
}